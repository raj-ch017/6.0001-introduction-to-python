{
 "cells": [
  {
   "cell_type": "markdown",
   "id": "81a27bfb",
   "metadata": {},
   "source": [
    "# Problem Set 3\n",
    "\n",
    "## author: @raj-ch017"
   ]
  },
  {
   "cell_type": "markdown",
   "id": "87a042f6",
   "metadata": {},
   "source": [
    "# Hangman Introduction\n",
    "---\n",
    "\n",
    "For this problem, you will implement a variation of the classic wordgame Hangman. For those of you who are unfamiliar with the rules, you may read all about it here. In this problem, the second player will always be the computer, who will be picking a word at random.\n",
    "\n",
    "In this problem, you will implement a function, called hangman, that will start up and carry out an interactive Hangman game between a player and the computer. Before we get to this function, we'll first implement a few helper functions to get you going.\n",
    "\n",
    "For this problem, you will need the code files `ps3_hangman.py` and `words.txt`. \n",
    "\n",
    "\n",
    "\n",
    "`Loading word list from file...`\n",
    "`55909 words loaded.`\n",
    "\n",
    "The file ps3_hangman.py has a number of already implemented functions you can use while writing up your solution. You can ignore the code between the following comments, though you should read and understand how to use each helper function by reading the docstrings:\n",
    "\n",
    "\n",
    " \n",
    "### -----------------------------------\n",
    "### Helper code\n",
    "### You don't need to understand this helper code,\n",
    "### but you will have to know how to use the functions\n",
    "### (so be sure to read the docstrings!)\n",
    "    .\n",
    "    .\n",
    "    .\n",
    "### (end of helper code)\n",
    "### -----------------------------------\n",
    "   \n",
    "You will want to do all of your coding for this problem within this file as well because you will be writing a program that depends on each function you write.\n",
    "\n",
    "**Requirements**\n",
    "Here are the requirements for your game:\n",
    "\n",
    "- The computer must select a word at random from the list of available words that was provided in words.txt. The functions for loading the word list and selecting a random word have already been provided for you in ps3_hangman.py.\n",
    "\n",
    "The game must be interactive; the flow of the game should go as follows:\n",
    "\n",
    "- At the start of the game, let the user know how many letters the computer's word contains.\n",
    "\n",
    "- Ask the user to supply one guess (i.e. letter) per round.\n",
    "\n",
    "- The user should receive feedback immediately after each guess about whether their guess appears in the computer's word.\n",
    "\n",
    "- After each round, you should also display to the user the partially guessed word so far, as well as letters that the user has not yet guessed.\n",
    "\n",
    "**Some additional rules of the game**:\n",
    "\n",
    "- A user is allowed 8 guesses. Make sure to remind the user of how many guesses s/he has left after each round. Assume that players will only ever submit one character at a time (A-Z).\n",
    "\n",
    "- A user loses a guess only when s/he guesses incorrectly.\n",
    "\n",
    "- If the user guesses the same letter twice, do not take away a guess - instead, print a message letting them know they've already guessed that letter and ask them to try again.\n",
    "\n",
    "- The game should end when the user constructs the full word or runs out of guesses. If the player runs out of guesses (s/he \"loses\"), reveal the word to the user when the game ends.\n",
    "\n"
   ]
  },
  {
   "cell_type": "code",
   "execution_count": 44,
   "id": "b2042fef",
   "metadata": {},
   "outputs": [],
   "source": [
    "import random\n",
    "\n",
    "WORDLIST_FILENAME = \"/Users/rajdeep_ch/Documents/projects/words.txt\""
   ]
  },
  {
   "cell_type": "code",
   "execution_count": 45,
   "id": "8a97c2a5",
   "metadata": {},
   "outputs": [],
   "source": [
    "def loadWords():\n",
    "    \"\"\"\n",
    "    Returns a list of valid words. Words are strings of lowercase letters.\n",
    "    \n",
    "    Depending on the size of the word list, this function may\n",
    "    take a while to finish.\n",
    "    \"\"\"\n",
    "    print(\"Loading word list from file...\")\n",
    "    # inFile: file\n",
    "    inFile = open(WORDLIST_FILENAME, 'r')\n",
    "    # line: string\n",
    "    line = inFile.readline()\n",
    "    # wordlist: list of strings\n",
    "    wordlist = line.split()\n",
    "    print(\"  \", len(wordlist), \"words loaded.\",end=\"\\n\\n\")\n",
    "    return wordlist\n",
    "\n",
    "def chooseWord(wordlist):\n",
    "    \"\"\"\n",
    "    wordlist (list): list of words (strings)\n",
    "\n",
    "    Returns a word from wordlist at random\n",
    "    \"\"\"\n",
    "    return random.choice(wordlist)\n"
   ]
  },
  {
   "cell_type": "code",
   "execution_count": 46,
   "id": "60c14ab9",
   "metadata": {},
   "outputs": [
    {
     "name": "stdout",
     "output_type": "stream",
     "text": [
      "Loading word list from file...\n",
      "   55909 words loaded.\n",
      "\n"
     ]
    }
   ],
   "source": [
    "loadWords();"
   ]
  },
  {
   "cell_type": "markdown",
   "id": "74335f78",
   "metadata": {},
   "source": [
    "### Problem 1 - Is the Word Guessed\n",
    "\n",
    "First, implement the function `isWordGuessed` that takes in two parameters - a string, `secretWord`, and a list of letters, `lettersGuessed`.\n",
    "\n",
    "\n",
    "This function returns a boolean - True if secretWord has been guessed (ie, all the letters of secretWord are in lettersGuessed) and False otherwise."
   ]
  },
  {
   "cell_type": "code",
   "execution_count": 9,
   "id": "89e84ef0",
   "metadata": {},
   "outputs": [],
   "source": [
    "def isWordGuessed(secretWord, lettersGuessed):\n",
    "    '''\n",
    "    Parameters:\n",
    "        secretWord (str): string, the word the user is guessing\n",
    "        lettersGuessed (list): list, what letters have been guessed so far\n",
    "    \n",
    "    Returns:\n",
    "        boolean, True if all the letters of secretWord are in lettersGuessed;\n",
    "        False otherwise\n",
    "    '''\n",
    "    \n",
    "    match = len(secretWord)\n",
    "    count = 0\n",
    "    for char in secretWord:\n",
    "      if char in lettersGuessed:\n",
    "        count += 1\n",
    "    \n",
    "    if count == match:\n",
    "        return True \n",
    "    else:\n",
    "        return False "
   ]
  },
  {
   "cell_type": "code",
   "execution_count": 10,
   "id": "074c4608",
   "metadata": {},
   "outputs": [],
   "source": [
    "test_dict1 = {'test1' : {'word': 'apple', 'guess': ['a', 'e', 'i', 'k', 'p', 'r', 's'], 'expected': False},\n",
    "             'test2' : {'word': 'durian', 'guess': ['h', 'a', 'c', 'd', 'i', 'm', 'n', 'r', 't', 'u'], 'expected': True},\n",
    "             'test3' : {'word': 'carrot', 'guess': ['j', 'x', 'v', 'l', 'm', 'h', 'p', 'n', 'a', 'e'], 'expected': False},\n",
    "            'test4' : {'word': 'grapefruit', 'guess': ['y', 'o', 'a', 'c', 'h', 'e', 'r', 'f', 's', 't'], 'expected': False},\n",
    "             'test5' : {'word': 'carrot', 'guess': [], 'expected': False},\n",
    "             'test6' : {'word': 'carrot', 'guess': ['z', 'x', 'q', 'c', 'a', 'r', 'r', 'o', 't'], 'expected': True}}"
   ]
  },
  {
   "cell_type": "code",
   "execution_count": 11,
   "id": "5ec60141",
   "metadata": {
    "scrolled": true
   },
   "outputs": [
    {
     "name": "stdout",
     "output_type": "stream",
     "text": [
      "Run 1\n",
      "Should be False\n",
      "Output: False\n",
      "\n",
      "Run 2\n",
      "Should be True\n",
      "Output: True\n",
      "\n",
      "Run 3\n",
      "Should be False\n",
      "Output: False\n",
      "\n",
      "Run 4\n",
      "Should be False\n",
      "Output: False\n",
      "\n",
      "Run 5\n",
      "Should be False\n",
      "Output: False\n",
      "\n",
      "Run 6\n",
      "Should be True\n",
      "Output: True\n",
      "\n"
     ]
    }
   ],
   "source": [
    "for run, run_key in enumerate(test_dict1):\n",
    "    \n",
    "    input_word = test_dict1[run_key]['word']\n",
    "    input_guess = test_dict1[run_key]['guess']\n",
    "    expected_out = test_dict1[run_key]['expected']\n",
    "    \n",
    "    print(\"Run {}\".format(run + 1))\n",
    "    print(\"Should be {}\".format(str(expected_out)))\n",
    "    print(\"Output: {}\".format(isWordGuessed(input_word,input_guess)),end=\"\\n\\n\")"
   ]
  },
  {
   "cell_type": "markdown",
   "id": "2970f2cc",
   "metadata": {},
   "source": [
    "---"
   ]
  },
  {
   "cell_type": "markdown",
   "id": "30131bb6",
   "metadata": {},
   "source": [
    "### Program 2 - Getting the User's Guess\n",
    "\n",
    "Next, implement the function `getGuessedWord` that takes in two parameters - a string, `secretWord`, and a list of letters, `lettersGuessed`.\n",
    "\n",
    "This function returns a string that is comprised of letters and underscores, based on what letters in `lettersGuessed` are in `secretWord`. \n",
    "\n",
    "When inserting underscores into your string, it's a good idea to add at least a space after each one, so it's clear to the user how many unguessed\n",
    "letters are left in the string (compare the readability of ____ with _ _ _ _ ). \n",
    "\n",
    "This is called usability - it's very important, when programming, to consider \n",
    "the usability of your program. If users find your program difficult to understand or operate, they won't use it!\n",
    "\n",
    "For this function, you may assume that all the letters in `secretWord` and `lettersGuessed` are lowercase."
   ]
  },
  {
   "cell_type": "code",
   "execution_count": 47,
   "id": "e083bc61",
   "metadata": {},
   "outputs": [],
   "source": [
    "def getGuessedWord(secretWord, lettersGuessed):\n",
    "    '''\n",
    "    Parameters:\n",
    "        secretWord (str): the word the user is guessing\n",
    "        lettersGuessed (list): what letters have been guessed so far\n",
    "    \n",
    "    Returns:\n",
    "        string, comprised of letters and underscores that represents\n",
    "        what letters in secretWord have been guessed so far.\n",
    "    '''\n",
    "\n",
    "    out_string = \"\"\n",
    "    \n",
    "    for char in secretWord:\n",
    "      \n",
    "        if char in lettersGuessed:\n",
    "            out_string = out_string + char\n",
    "        else:\n",
    "            out_string = out_string + \" _\"\n",
    "    return out_string"
   ]
  },
  {
   "cell_type": "code",
   "execution_count": 12,
   "id": "e05d7375",
   "metadata": {},
   "outputs": [],
   "source": [
    "test_dict2 = {'test1': {'word':'apple','guess':['e', 'i', 'k', 'p', 'r', 's'],'expected':' _pp _e'},\n",
    "             'test2': {'word':'durian', 'guess':['a', 'c', 'd', 'h', 'i', 'm', 'n', 'r', 't', 'u'],'expected':'durian'},\n",
    "             'test3': {'word': 'broccoli','guess':['c', 'd', 's', 'b', 'w', 'q', 'j', 'g', 'u', 'e'], 'expected':'b _ _cc _ _ _'},\n",
    "             'test4': {'word': 'mangosteen', 'guess':['a', 'i', 'k', 'x', 'q', 'u', 'e', 'y', 'n', 'f'], 'expected':' _an _ _ _ _een'},\n",
    "             'test5': {'word': 'grapefruit', 'guess':[],'expected':' _ _ _ _ _ _ _ _ _ _'},\n",
    "             'test6': {'word': 'broccoli', 'guess': ['p', 'i', 'j', 'z', 'd', 'b', 'q', 'y', 'n', 'l'], 'expected':'b _ _ _ _ _li'}}"
   ]
  },
  {
   "cell_type": "code",
   "execution_count": 15,
   "id": "b121ffe6",
   "metadata": {
    "scrolled": true
   },
   "outputs": [
    {
     "name": "stdout",
     "output_type": "stream",
     "text": [
      "Run 1\n",
      "Should be:  _pp _e\n",
      "Output:  _pp _e\n",
      "\n",
      "Run 2\n",
      "Should be: durian\n",
      "Output: durian\n",
      "\n",
      "Run 3\n",
      "Should be: b _ _cc _ _ _\n",
      "Output: b _ _cc _ _ _\n",
      "\n",
      "Run 4\n",
      "Should be:  _an _ _ _ _een\n",
      "Output:  _an _ _ _ _een\n",
      "\n",
      "Run 5\n",
      "Should be:  _ _ _ _ _ _ _ _ _ _\n",
      "Output:  _ _ _ _ _ _ _ _ _ _\n",
      "\n",
      "Run 6\n",
      "Should be: b _ _ _ _ _li\n",
      "Output: b _ _ _ _ _li\n",
      "\n"
     ]
    }
   ],
   "source": [
    "for run, run_dict in enumerate(test_dict2):\n",
    "    \n",
    "    input_word = test_dict2[run_dict]['word']\n",
    "    input_list = test_dict2[run_dict]['guess']\n",
    "    output = test_dict2[run_dict]['expected']\n",
    "    \n",
    "    print(\"Run {}\".format(run + 1))\n",
    "    print(\"Should be: {}\".format(output))\n",
    "    print(\"Output: {}\".format(getGuessedWord(input_word,input_list)),end=\"\\n\\n\")"
   ]
  },
  {
   "cell_type": "markdown",
   "id": "c0e1c006",
   "metadata": {},
   "source": [
    "---"
   ]
  },
  {
   "cell_type": "markdown",
   "id": "34cd7fb8",
   "metadata": {},
   "source": [
    "### Program 3 - Printing Out all Available Letters\n",
    "\n",
    "Next, implement the function `getAvailableLetters` that takes in one parameter - a list of letters, `lettersGuessed`. \n",
    "\n",
    "This function returns a string that is comprised of lowercase English letters - all lowercase English letters that are not in lettersGuessed.\n",
    "\n",
    "**Note that this function should return the letters in alphabetical order.**\n",
    "\n",
    "For this function, you may assume that all the letters in lettersGuessed are lowercase.\n"
   ]
  },
  {
   "cell_type": "code",
   "execution_count": 25,
   "id": "be266db4",
   "metadata": {},
   "outputs": [],
   "source": [
    "def getAvailableLetters(lettersGuessed):\n",
    "    '''\n",
    "    Parameters:\n",
    "        lettersGuessed (list): what letters have been guessed so far\n",
    "    \n",
    "    Returns:\n",
    "        string, comprised of letters that represents what letters have not\n",
    "          yet been guessed.\n",
    "    '''\n",
    "    import string\n",
    "    \n",
    "    out_string = \"\"\n",
    "    the_str = string.ascii_lowercase\n",
    "    \n",
    "    for char in the_str:\n",
    "      if char not in lettersGuessed:\n",
    "        out_string = out_string + char\n",
    "    \n",
    "    return out_string"
   ]
  },
  {
   "cell_type": "code",
   "execution_count": 20,
   "id": "5a153fef",
   "metadata": {},
   "outputs": [],
   "source": [
    "test_dict3 = {'test1' : {'list': ['e', 'i', 'k', 'p', 'r', 's'], 'output': 'abcdfghjlmnoqtuvwxyz'},\n",
    "              'test2' : {'list': [], 'output': 'abcdefghijklmnopqrstuvwxyz'},\n",
    "              'test3' : {'list': ['y', 'b', 'u', 'r', 'j', 'k', 'v', 's', 'x', 'h', 't'], 'output':'acdefgilmnopqwz'},\n",
    "              'test4' : {'list': ['i', 'g', 'd', 'u', 's', 'l', 'w', 'v', 'z', 'n', 'p', 'c'], 'output': 'abefhjkmoqrtxy'},\n",
    "              'test5' : {'list': ['y', 'i', 'h', 'o'], 'output': 'abcdefgjklmnpqrstuvwxz'},\n",
    "              'test6' : {'list': ['r', 'q', 'm', 'e', 'g', 'v', 'p', 's', 'c', 'j'], 'output': 'abdfhiklnotuwxyz'}}"
   ]
  },
  {
   "cell_type": "code",
   "execution_count": 26,
   "id": "2910f886",
   "metadata": {},
   "outputs": [
    {
     "name": "stdout",
     "output_type": "stream",
     "text": [
      "Run 1\n",
      "Should be: abcdfghjlmnoqtuvwxyz\n",
      "Output: abcdfghjlmnoqtuvwxyz\n",
      "\n",
      "Run 2\n",
      "Should be: abcdefghijklmnopqrstuvwxyz\n",
      "Output: abcdefghijklmnopqrstuvwxyz\n",
      "\n",
      "Run 3\n",
      "Should be: acdefgilmnopqwz\n",
      "Output: acdefgilmnopqwz\n",
      "\n",
      "Run 4\n",
      "Should be: abefhjkmoqrtxy\n",
      "Output: abefhjkmoqrtxy\n",
      "\n",
      "Run 5\n",
      "Should be: abcdefgjklmnpqrstuvwxz\n",
      "Output: abcdefgjklmnpqrstuvwxz\n",
      "\n",
      "Run 6\n",
      "Should be: abdfhiklnotuwxyz\n",
      "Output: abdfhiklnotuwxyz\n",
      "\n"
     ]
    }
   ],
   "source": [
    "for run, run_key in enumerate(test_dict3):\n",
    "    \n",
    "    input_list = test_dict3[run_key]['list']\n",
    "    output = test_dict3[run_key]['output']\n",
    "    \n",
    "    print(\"Run {}\".format(run + 1))\n",
    "    print(\"Should be: {}\".format(output))\n",
    "    print(\"Output: {}\".format(getAvailableLetters(input_list)),end=\"\\n\\n\")"
   ]
  },
  {
   "cell_type": "markdown",
   "id": "af0b91da",
   "metadata": {},
   "source": [
    "---"
   ]
  },
  {
   "cell_type": "markdown",
   "id": "16af4b93",
   "metadata": {},
   "source": [
    "### Program 4 - The Game\n",
    "\n",
    "Now you will implement the function `hangman`, which takes one parameter - the `secretWord` the user is to guess. \n",
    "This starts up an interactive game of Hangman between the user and the computer. \n",
    "\n",
    "Be sure you take advantage of the three helper functions, `isWordGuessed`, `getGuessedWord`, and `getAvailableLetters`, that you've defined in the previous part.\n",
    "\n",
    "**Hints:**\n",
    "\n",
    "You should start by noticing where we're using the provided functions (at the top of ps3_hangman.py) to load the words and pick a random one. \n"
   ]
  },
  {
   "cell_type": "code",
   "execution_count": 38,
   "id": "bef43a15",
   "metadata": {},
   "outputs": [],
   "source": [
    "def hangman(secretWord):\n",
    "    '''\n",
    "    secretWord: string, the secret word to guess.\n",
    "\n",
    "    Starts up an interactive game of Hangman.\n",
    "\n",
    "    * At the start of the game, let the user know how many \n",
    "      letters the secretWord contains.\n",
    "\n",
    "    * Ask the user to supply one guess (i.e. letter) per round.\n",
    "\n",
    "    * The user should receive feedback immediately after each guess \n",
    "      about whether their guess appears in the computers word.\n",
    "\n",
    "    * After each round, you should also display to the user the \n",
    "      partially guessed word so far, as well as letters that the \n",
    "      user has not yet guessed.\n",
    "\n",
    "    Follows the other limitations detailed in the problem write-up.\n",
    "    '''\n",
    "    \n",
    "    #helper function to let the user know if their guess was good or bad\n",
    "    \n",
    "    def helper_guess(secretWord,user_guess):      \n",
    "        if user_guess in secretWord:\n",
    "          print(\"Good guess: \",end=\"\")\n",
    "          return 1\n",
    "        else:\n",
    "          print(\"Oops! That letter is not in my word: \",end=\"\")\n",
    "          return 0\n",
    "    \n",
    "    #helper function to check whether user is repeating a guess\n",
    "    \n",
    "    def already_guessed(user_guess,lettersGuessed):     \n",
    "      if user_guess in lettersGuessed:\n",
    "        print(\"Oops! You've already guessed that letter: \",end=\"\")\n",
    "        return 'repeat'\n",
    "\n",
    "    mistakes = 0\n",
    "    total = 8\n",
    "    lettersGuessed = []\n",
    "    user_progress = \"\"\n",
    "    run = 0\n",
    "    check_repeat = \"\"\n",
    "\n",
    "    print(\"Welcome to the game Hangman!\")\n",
    "    print(\"I am thinking of a word that is {} letters long.\".format(len(secretWord)))\n",
    "    print(\"--------------------------------------------------------\")\n",
    "\n",
    "    while (mistakes != 8):\n",
    "        \n",
    "      print(\"You have {} guesses left.\".format(total - mistakes))\n",
    "      avail_letters = getAvailableLetters(lettersGuessed)\n",
    "      print(\"Available Letters: \",avail_letters)\n",
    "      user_guess = input(\"Please guess a letter: \").lower()\n",
    "\n",
    "      if user_guess not in lettersGuessed:\n",
    "        value = helper_guess(secretWord,user_guess)\n",
    "\n",
    "      if run != 0:\n",
    "        check_repeat = already_guessed(user_guess,lettersGuessed)\n",
    "\n",
    "      lettersGuessed.append(user_guess)\n",
    "      \n",
    "      user_progress = getGuessedWord(secretWord,lettersGuessed)\n",
    "      \n",
    "      good_to_go = isWordGuessed(secretWord, lettersGuessed)\n",
    "\n",
    "      print(user_progress)\n",
    "\n",
    "      if value == 0 and check_repeat != \"repeat\":\n",
    "        mistakes += 1\n",
    "      run += 1\n",
    "      \n",
    "\n",
    "      print(\"------------------------------------------------------\")\n",
    "\n",
    "      if good_to_go:\n",
    "        print(\"Congratulations, you have won!\")\n",
    "        break\n",
    "\n",
    "\n",
    "    if good_to_go != True:\n",
    "      print(\"Sorry, you ran out of guesses. The word was {}.\".format(secretWord))"
   ]
  },
  {
   "cell_type": "markdown",
   "id": "0670a89d",
   "metadata": {},
   "source": [
    "## Test 1 \n",
    "### Testing if we can correctly guess a short word\n",
    "\n",
    "### Function Call: `hangman('c')`"
   ]
  },
  {
   "cell_type": "code",
   "execution_count": 31,
   "id": "c33951e3",
   "metadata": {
    "scrolled": false
   },
   "outputs": [
    {
     "name": "stdout",
     "output_type": "stream",
     "text": [
      "Welcome to the game Hangman!\n",
      "I am thinking of a word that is 1 letters long.\n",
      "--------------------------------------------------------\n",
      "You have 8 guesses left.\n",
      "Available Letters:  abcdefghijklmnopqrstuvwxyz\n",
      "Please guess a letter: c\n",
      "Good guess: c\n",
      "------------------------------------------------------\n",
      "Congratulations, you have won!\n"
     ]
    }
   ],
   "source": [
    "hangman('c')"
   ]
  },
  {
   "cell_type": "markdown",
   "id": "524c6880",
   "metadata": {},
   "source": [
    "## Test 2\n",
    "### Testing if we can correctly fill in repeat letters\n",
    "\n",
    "### Function Call: `hangman('zzz')`"
   ]
  },
  {
   "cell_type": "code",
   "execution_count": 33,
   "id": "e2ddf4d3",
   "metadata": {},
   "outputs": [
    {
     "name": "stdout",
     "output_type": "stream",
     "text": [
      "Welcome to the game Hangman!\n",
      "I am thinking of a word that is 3 letters long.\n",
      "--------------------------------------------------------\n",
      "You have 8 guesses left.\n",
      "Available Letters:  abcdefghijklmnopqrstuvwxyz\n",
      "Please guess a letter: z\n",
      "Good guess: zzz\n",
      "------------------------------------------------------\n",
      "Congratulations, you have won!\n"
     ]
    }
   ],
   "source": [
    "hangman('zzz')"
   ]
  },
  {
   "cell_type": "markdown",
   "id": "48c8df84",
   "metadata": {},
   "source": [
    "## Test 3\n",
    "### Testing if we can incorrectly guess a short word\n",
    "\n",
    "### Function Call: `hangman('c')`"
   ]
  },
  {
   "cell_type": "code",
   "execution_count": 34,
   "id": "c43b71c9",
   "metadata": {},
   "outputs": [
    {
     "name": "stdout",
     "output_type": "stream",
     "text": [
      "Welcome to the game Hangman!\n",
      "I am thinking of a word that is 1 letters long.\n",
      "--------------------------------------------------------\n",
      "You have 8 guesses left.\n",
      "Available Letters:  abcdefghijklmnopqrstuvwxyz\n",
      "Please guess a letter: a\n",
      "Oops! That letter is not in my word:  _\n",
      "------------------------------------------------------\n",
      "You have 7 guesses left.\n",
      "Available Letters:  bcdefghijklmnopqrstuvwxyz\n",
      "Please guess a letter: i\n",
      "Oops! That letter is not in my word:  _\n",
      "------------------------------------------------------\n",
      "You have 6 guesses left.\n",
      "Available Letters:  bcdefghjklmnopqrstuvwxyz\n",
      "Please guess a letter: e\n",
      "Oops! That letter is not in my word:  _\n",
      "------------------------------------------------------\n",
      "You have 5 guesses left.\n",
      "Available Letters:  bcdfghjklmnopqrstuvwxyz\n",
      "Please guess a letter: o\n",
      "Oops! That letter is not in my word:  _\n",
      "------------------------------------------------------\n",
      "You have 4 guesses left.\n",
      "Available Letters:  bcdfghjklmnpqrstuvwxyz\n",
      "Please guess a letter: u\n",
      "Oops! That letter is not in my word:  _\n",
      "------------------------------------------------------\n",
      "You have 3 guesses left.\n",
      "Available Letters:  bcdfghjklmnpqrstvwxyz\n",
      "Please guess a letter: d\n",
      "Oops! That letter is not in my word:  _\n",
      "------------------------------------------------------\n",
      "You have 2 guesses left.\n",
      "Available Letters:  bcfghjklmnpqrstvwxyz\n",
      "Please guess a letter: b\n",
      "Oops! That letter is not in my word:  _\n",
      "------------------------------------------------------\n",
      "You have 1 guesses left.\n",
      "Available Letters:  cfghjklmnpqrstvwxyz\n",
      "Please guess a letter: k\n",
      "Oops! That letter is not in my word:  _\n",
      "------------------------------------------------------\n",
      "Sorry, you ran out of guesses. The word was c.\n"
     ]
    }
   ],
   "source": [
    "hangman('c')"
   ]
  },
  {
   "cell_type": "markdown",
   "id": "a768dfc3",
   "metadata": {},
   "source": [
    "## Test 4\n",
    "### Testing if we handle repeat correct guesses\n",
    "\n",
    "### Function Call: `hangman('sea')`"
   ]
  },
  {
   "cell_type": "code",
   "execution_count": 35,
   "id": "e2570489",
   "metadata": {},
   "outputs": [
    {
     "name": "stdout",
     "output_type": "stream",
     "text": [
      "Welcome to the game Hangman!\n",
      "I am thinking of a word that is 3 letters long.\n",
      "--------------------------------------------------------\n",
      "You have 8 guesses left.\n",
      "Available Letters:  abcdefghijklmnopqrstuvwxyz\n",
      "Please guess a letter: a\n",
      "Good guess:  _ _a\n",
      "------------------------------------------------------\n",
      "You have 8 guesses left.\n",
      "Available Letters:  bcdefghijklmnopqrstuvwxyz\n",
      "Please guess a letter: e\n",
      "Good guess:  _ea\n",
      "------------------------------------------------------\n",
      "You have 8 guesses left.\n",
      "Available Letters:  bcdfghijklmnopqrstuvwxyz\n",
      "Please guess a letter: a\n",
      "Oops! You've already guessed that letter:  _ea\n",
      "------------------------------------------------------\n",
      "You have 8 guesses left.\n",
      "Available Letters:  bcdfghijklmnopqrstuvwxyz\n",
      "Please guess a letter: e\n",
      "Oops! You've already guessed that letter:  _ea\n",
      "------------------------------------------------------\n",
      "You have 8 guesses left.\n",
      "Available Letters:  bcdfghijklmnopqrstuvwxyz\n",
      "Please guess a letter: s\n",
      "Good guess: sea\n",
      "------------------------------------------------------\n",
      "Congratulations, you have won!\n"
     ]
    }
   ],
   "source": [
    "hangman('sea')"
   ]
  },
  {
   "cell_type": "markdown",
   "id": "30099879",
   "metadata": {},
   "source": [
    "## Test 5\n",
    "### Testing if we handle repeat incorrect guesses\n",
    "\n",
    "### Function Call: `hangman('y')`"
   ]
  },
  {
   "cell_type": "code",
   "execution_count": 36,
   "id": "4f6c4cdb",
   "metadata": {
    "scrolled": true
   },
   "outputs": [
    {
     "name": "stdout",
     "output_type": "stream",
     "text": [
      "Welcome to the game Hangman!\n",
      "I am thinking of a word that is 1 letters long.\n",
      "--------------------------------------------------------\n",
      "You have 8 guesses left.\n",
      "Available Letters:  abcdefghijklmnopqrstuvwxyz\n",
      "Please guess a letter: p\n",
      "Oops! That letter is not in my word:  _\n",
      "------------------------------------------------------\n",
      "You have 7 guesses left.\n",
      "Available Letters:  abcdefghijklmnoqrstuvwxyz\n",
      "Please guess a letter: q\n",
      "Oops! That letter is not in my word:  _\n",
      "------------------------------------------------------\n",
      "You have 6 guesses left.\n",
      "Available Letters:  abcdefghijklmnorstuvwxyz\n",
      "Please guess a letter: r\n",
      "Oops! That letter is not in my word:  _\n",
      "------------------------------------------------------\n",
      "You have 5 guesses left.\n",
      "Available Letters:  abcdefghijklmnostuvwxyz\n",
      "Please guess a letter: x\n",
      "Oops! That letter is not in my word:  _\n",
      "------------------------------------------------------\n",
      "You have 4 guesses left.\n",
      "Available Letters:  abcdefghijklmnostuvwyz\n",
      "Please guess a letter: y\n",
      "Good guess: y\n",
      "------------------------------------------------------\n",
      "Congratulations, you have won!\n"
     ]
    }
   ],
   "source": [
    "hangman('y')"
   ]
  },
  {
   "cell_type": "markdown",
   "id": "531af516",
   "metadata": {},
   "source": [
    "## Playing a round\n",
    "---"
   ]
  },
  {
   "cell_type": "code",
   "execution_count": 43,
   "id": "86a02592",
   "metadata": {
    "scrolled": true
   },
   "outputs": [
    {
     "name": "stdout",
     "output_type": "stream",
     "text": [
      "Loading word list from file...\n",
      "   55909 words loaded.\n",
      "Welcome to the game Hangman!\n",
      "I am thinking of a word that is 8 letters long.\n",
      "--------------------------------------------------------\n",
      "You have 8 guesses left.\n",
      "Available Letters:  abcdefghijklmnopqrstuvwxyz\n",
      "Please guess a letter: a\n",
      "Good guess:  _ _ _ _ _a _ _\n",
      "------------------------------------------------------\n",
      "You have 8 guesses left.\n",
      "Available Letters:  bcdefghijklmnopqrstuvwxyz\n",
      "Please guess a letter: u\n",
      "Oops! That letter is not in my word:  _ _ _ _ _a _ _\n",
      "------------------------------------------------------\n",
      "You have 7 guesses left.\n",
      "Available Letters:  bcdefghijklmnopqrstvwxyz\n",
      "Please guess a letter: b\n",
      "Oops! That letter is not in my word:  _ _ _ _ _a _ _\n",
      "------------------------------------------------------\n",
      "You have 6 guesses left.\n",
      "Available Letters:  cdefghijklmnopqrstvwxyz\n",
      "Please guess a letter: c\n",
      "Oops! That letter is not in my word:  _ _ _ _ _a _ _\n",
      "------------------------------------------------------\n",
      "You have 5 guesses left.\n",
      "Available Letters:  defghijklmnopqrstvwxyz\n",
      "Please guess a letter: o\n",
      "Good guess:  _o _ _ _a _ _\n",
      "------------------------------------------------------\n",
      "You have 5 guesses left.\n",
      "Available Letters:  defghijklmnpqrstvwxyz\n",
      "Please guess a letter: p\n",
      "Good guess: po _ _ _a _ _\n",
      "------------------------------------------------------\n",
      "You have 5 guesses left.\n",
      "Available Letters:  defghijklmnqrstvwxyz\n",
      "Please guess a letter: t\n",
      "Good guess: po _t _a _ _\n",
      "------------------------------------------------------\n",
      "You have 5 guesses left.\n",
      "Available Letters:  defghijklmnqrsvwxyz\n",
      "Please guess a letter: c\n",
      "Oops! You've already guessed that letter: po _t _a _ _\n",
      "------------------------------------------------------\n",
      "You have 5 guesses left.\n",
      "Available Letters:  defghijklmnqrsvwxyz\n",
      "Please guess a letter: e\n",
      "Oops! That letter is not in my word: po _t _a _ _\n",
      "------------------------------------------------------\n",
      "You have 4 guesses left.\n",
      "Available Letters:  dfghijklmnqrsvwxyz\n",
      "Please guess a letter: l\n",
      "Good guess: po _tla _ _\n",
      "------------------------------------------------------\n",
      "You have 4 guesses left.\n",
      "Available Letters:  dfghijkmnqrsvwxyz\n",
      "Please guess a letter: r\n",
      "Good guess: portla _ _\n",
      "------------------------------------------------------\n",
      "You have 4 guesses left.\n",
      "Available Letters:  dfghijkmnqsvwxyz\n",
      "Please guess a letter: n\n",
      "Good guess: portlan _\n",
      "------------------------------------------------------\n",
      "You have 4 guesses left.\n",
      "Available Letters:  dfghijkmqsvwxyz\n",
      "Please guess a letter: d\n",
      "Good guess: portland\n",
      "------------------------------------------------------\n",
      "Congratulations, you have won!\n"
     ]
    }
   ],
   "source": [
    "hangman(chooseWord(loadWords()))"
   ]
  },
  {
   "cell_type": "markdown",
   "id": "12aabe30",
   "metadata": {},
   "source": [
    "---"
   ]
  }
 ],
 "metadata": {
  "kernelspec": {
   "display_name": "Python 3 (ipykernel)",
   "language": "python",
   "name": "python3"
  },
  "language_info": {
   "codemirror_mode": {
    "name": "ipython",
    "version": 3
   },
   "file_extension": ".py",
   "mimetype": "text/x-python",
   "name": "python",
   "nbconvert_exporter": "python",
   "pygments_lexer": "ipython3",
   "version": "3.9.12"
  }
 },
 "nbformat": 4,
 "nbformat_minor": 5
}
